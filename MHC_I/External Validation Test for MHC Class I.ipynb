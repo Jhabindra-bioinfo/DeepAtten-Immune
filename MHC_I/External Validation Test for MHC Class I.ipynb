{
 "cells": [
  {
   "cell_type": "markdown",
   "id": "b6fa813b",
   "metadata": {},
   "source": [
    "### External Validation Test for MHC Class I Prediction\n",
    "\n",
    "This notebook performs external validation testing based on five pre-trained models for MHC Class I prediction. The goal is to evaluate the performance of the trained models on external data.\n",
    "\n",
    "#### Requirements\n",
    "1. **Amino acid interaction preference matrix between HLA allele and immunogenic peptide** : a part of feature generation\n",
    "2. **Pre-trained Model Weights**: Weights from five fold based trained models.\n",
    "3. **Feature Indices**: Selected feature indices obtained using RFECV.\n",
    "4. **External Dataset**: Contains 200 samples also known as independent  or unseen data.\n",
    "5. **Keras Functional API Models**:  Model  built using Keras Functional API.\n",
    "\n",
    "### Purpose\n",
    "To validate the robustness and accuracy of the trained models on unseen external data and analyze their predictive performance.\n"
   ]
  },
  {
   "cell_type": "code",
   "execution_count": 1,
   "id": "bed7fd8a",
   "metadata": {},
   "outputs": [],
   "source": [
    "import os\n",
    "import sys\n",
    "os.environ[\"CUDa_VISIBLE-DEVICES\"] = \"0\" ## Selection of GPU"
   ]
  },
  {
   "cell_type": "code",
   "execution_count": 2,
   "id": "2c8d3503",
   "metadata": {},
   "outputs": [
    {
     "name": "stderr",
     "output_type": "stream",
     "text": [
      "2024-12-31 18:31:31.684448: I tensorflow/core/util/port.cc:113] oneDNN custom operations are on. You may see slightly different numerical results due to floating-point round-off errors from different computation orders. To turn them off, set the environment variable `TF_ENABLE_ONEDNN_OPTS=0`.\n",
      "2024-12-31 18:31:31.701332: E external/local_xla/xla/stream_executor/cuda/cuda_fft.cc:479] Unable to register cuFFT factory: Attempting to register factory for plugin cuFFT when one has already been registered\n",
      "2024-12-31 18:31:31.723451: E external/local_xla/xla/stream_executor/cuda/cuda_dnn.cc:10575] Unable to register cuDNN factory: Attempting to register factory for plugin cuDNN when one has already been registered\n",
      "2024-12-31 18:31:31.723480: E external/local_xla/xla/stream_executor/cuda/cuda_blas.cc:1442] Unable to register cuBLAS factory: Attempting to register factory for plugin cuBLAS when one has already been registered\n",
      "2024-12-31 18:31:31.738085: I tensorflow/core/platform/cpu_feature_guard.cc:210] This TensorFlow binary is optimized to use available CPU instructions in performance-critical operations.\n",
      "To enable the following instructions: AVX2 AVX512F AVX512_VNNI FMA, in other operations, rebuild TensorFlow with the appropriate compiler flags.\n",
      "2024-12-31 18:31:32.662759: W tensorflow/compiler/tf2tensorrt/utils/py_utils.cc:38] TF-TRT Warning: Could not find TensorRT\n"
     ]
    }
   ],
   "source": [
    "import pickle\n",
    "import numpy as np\n",
    "import gzip\n",
    "import matplotlib.pyplot as plt\n",
    "import seaborn as sns\n",
    "# TensorFlow and Keras Libraries\n",
    "import keras\n",
    "import tensorflow as tf\n",
    "from keras import backend as K\n",
    "from keras.models import Model\n",
    "from keras.layers import (\n",
    "    Input,\n",
    "    Conv1D,\n",
    "    MaxPooling1D,\n",
    "    Flatten,\n",
    "    Dense,\n",
    "    Dropout,\n",
    "    BatchNormalization,\n",
    "    concatenate\n",
    ")\n",
    "from keras.callbacks import EarlyStopping\n",
    "from keras.optimizers import Adam, RMSprop\n",
    "from keras.losses import binary_crossentropy, binary_focal_crossentropy\n",
    "from keras.utils import plot_model\n",
    "from keras_self_attention import SeqSelfAttention\n",
    "\n",
    "# Scikit-learn Libraries\n",
    "from sklearn.model_selection import (\n",
    "    train_test_split,\n",
    "    GridSearchCV,\n",
    "    StratifiedKFold\n",
    ")\n",
    "from sklearn.metrics import (\n",
    "    roc_curve,\n",
    "    auc,\n",
    "    precision_recall_curve,\n",
    "    average_precision_score,\n",
    "    confusion_matrix,\n",
    "    ConfusionMatrixDisplay\n",
    ")\n",
    "from sklearn.preprocessing import MinMaxScaler\n",
    "from sklearn.feature_selection import RFECV\n",
    "from sklearn.svm import SVC\n",
    "from sklearn.utils.class_weight import compute_class_weight\n",
    "from sklearn.manifold import TSNE\n",
    "from sklearn.metrics import roc_auc_score\n",
    "from sklearn.model_selection import KFold\n",
    "from sklearn import metrics"
   ]
  },
  {
   "cell_type": "code",
   "execution_count": 3,
   "id": "a9590fab",
   "metadata": {},
   "outputs": [
    {
     "name": "stdout",
     "output_type": "stream",
     "text": [
      " keras version 3.4.1\n",
      " tensorflow version 2.16.2\n",
      " python version 3.11.9\n"
     ]
    }
   ],
   "source": [
    "print(f' keras version {keras.__version__}'), \n",
    "print(f' tensorflow version {tf.__version__}'),\n",
    "print(f' python version {sys.version.split()[0]}')"
   ]
  },
  {
   "cell_type": "code",
   "execution_count": 5,
   "id": "1f64cc15",
   "metadata": {},
   "outputs": [
    {
     "name": "stdout",
     "output_type": "stream",
     "text": [
      "Type of first element: <class 'numpy.ndarray'>\n",
      "Shape of feature data: (200, 3321)\n",
      "Shape of labels: (200,)\n",
      "Number of positive samples: 98\n",
      "Number of negative samples: 102\n"
     ]
    }
   ],
   "source": [
    "'''Load the feature data generated from amino acid interaction matrix of HLA and immunogenic neoepitope from a \n",
    "gzipped pickle file, it is mendatory of interaction matrix to test our trained model.\n",
    "To create this matrix please see another directory and manin manuscript'''\n",
    "\n",
    "data_path = \"/BiO/home/jk/Research_MHC/Feature_generation/Feature_MHC_i_our_independent\"  # Update with your directory, and data named\n",
    "with gzip.open(data_path, \"rb\") as f:\n",
    "    array = pickle.load(f)\n",
    "\n",
    "print(f\"Type of first element: {type(array[0])}\")\n",
    "print(f\"Shape of feature data: {array[0].shape}\")\n",
    "print(f\"Shape of labels: {array[1].shape}\")\n",
    "\n",
    "positive = np.sum(array[1] == 1) # positive class\n",
    "negative = np.sum(array[1] == 0) # negative\n",
    "print(f\"Number of positive samples: {positive}\")\n",
    "print(f\"Number of negative samples: {negative}\")\n",
    "\n",
    "data_ind = array[0]  # Feature data\n",
    "label_ind = array[1]  # Labels\n"
   ]
  },
  {
   "cell_type": "markdown",
   "id": "36feb8a9",
   "metadata": {},
   "source": [
    "### The selected feature indices file from the trained RFECV must be loaded and then use to encode the external validation data"
   ]
  },
  {
   "cell_type": "code",
   "execution_count": 6,
   "id": "b49077ea",
   "metadata": {},
   "outputs": [
    {
     "name": "stdout",
     "output_type": "stream",
     "text": [
      " Shape of external (independent) validation data (200, 1329, 1)\n"
     ]
    }
   ],
   "source": [
    "load_features = np.load(\"selected_feature_mhc_i.npy\") # load the feature index of 1329 \n",
    "selected_feature_indices = np.where(load_features)[0]\n",
    "data_selected = data_ind[:, selected_feature_indices] # encoding\n",
    "data_selected = data_selected.reshape(200, 1329,1) # reshape if necessary\n",
    "print(f' Shape of external (independent) validation data {data_selected.shape}')"
   ]
  },
  {
   "cell_type": "markdown",
   "id": "05e5912e",
   "metadata": {},
   "source": [
    "### Model in functional keras API"
   ]
  },
  {
   "cell_type": "code",
   "execution_count": 7,
   "id": "e256ba2e",
   "metadata": {},
   "outputs": [],
   "source": [
    "def model_with_attention1():\n",
    "    input_shape = (1329, 1)  # one-dimensional\n",
    "    input_layer = Input(shape=input_shape, name='input_layer')\n",
    "    # Convolutional layers\n",
    "    conv1 = Conv1D(27, kernel_size=9, activation='relu', padding='same')(input_layer)\n",
    "    conv1 = BatchNormalization()(conv1)\n",
    "    pool1 = MaxPooling1D()(conv1)\n",
    "    conv1 = Dropout(0.7)(pool1)\n",
    "    conv2 = Conv1D(4, kernel_size=8, activation='relu', padding='same')(conv1)\n",
    "    conv2 = BatchNormalization()(conv2)\n",
    "    pool2 = MaxPooling1D()(conv2)\n",
    "    conv2 = Dropout(0.6)(pool2)\n",
    "    # Attention layer\n",
    "    att = SeqSelfAttention(attention_type=SeqSelfAttention.ATTENTION_TYPE_MUL,\n",
    "                           attention_activation='sigmoid', name = \"attention\")(conv2)\n",
    "    # Flatten the output for the dense layer\n",
    "    flatten = Flatten()(att)\n",
    "    output_layer = Dense(1, activation='sigmoid', name='output_layer')(flatten)\n",
    "    # Model instantiation\n",
    "    model = Model(inputs=input_layer, outputs=output_layer)\n",
    "    learning_rate = 0.001  \n",
    "    optimizer = Adam(learning_rate=learning_rate)\n",
    "    model.compile(optimizer= optimizer, loss=binary_crossentropy, metrics=['accuracy'])\n",
    "    model.summary()\n",
    "    return model"
   ]
  },
  {
   "cell_type": "code",
   "execution_count": 8,
   "id": "e9d7ebd0",
   "metadata": {},
   "outputs": [
    {
     "name": "stderr",
     "output_type": "stream",
     "text": [
      "2024-12-31 18:33:05.498671: I tensorflow/core/common_runtime/gpu/gpu_device.cc:1928] Created device /job:localhost/replica:0/task:0/device:GPU:0 with 638 MB memory:  -> device: 0, name: Quadro RTX 8000, pci bus id: 0000:1b:00.0, compute capability: 7.5\n",
      "2024-12-31 18:33:05.499617: I tensorflow/core/common_runtime/gpu/gpu_device.cc:1928] Created device /job:localhost/replica:0/task:0/device:GPU:1 with 47203 MB memory:  -> device: 1, name: Quadro RTX 8000, pci bus id: 0000:3d:00.0, compute capability: 7.5\n"
     ]
    },
    {
     "data": {
      "text/html": [
       "<pre style=\"white-space:pre;overflow-x:auto;line-height:normal;font-family:Menlo,'DejaVu Sans Mono',consolas,'Courier New',monospace\"><span style=\"font-weight: bold\">Model: \"functional\"</span>\n",
       "</pre>\n"
      ],
      "text/plain": [
       "\u001b[1mModel: \"functional\"\u001b[0m\n"
      ]
     },
     "metadata": {},
     "output_type": "display_data"
    },
    {
     "data": {
      "text/html": [
       "<pre style=\"white-space:pre;overflow-x:auto;line-height:normal;font-family:Menlo,'DejaVu Sans Mono',consolas,'Courier New',monospace\">┏━━━━━━━━━━━━━━━━━━━━━━━━━━━━━━━━━┳━━━━━━━━━━━━━━━━━━━━━━━━┳━━━━━━━━━━━━━━━┓\n",
       "┃<span style=\"font-weight: bold\"> Layer (type)                    </span>┃<span style=\"font-weight: bold\"> Output Shape           </span>┃<span style=\"font-weight: bold\">       Param # </span>┃\n",
       "┡━━━━━━━━━━━━━━━━━━━━━━━━━━━━━━━━━╇━━━━━━━━━━━━━━━━━━━━━━━━╇━━━━━━━━━━━━━━━┩\n",
       "│ input_layer (<span style=\"color: #0087ff; text-decoration-color: #0087ff\">InputLayer</span>)        │ (<span style=\"color: #00d7ff; text-decoration-color: #00d7ff\">None</span>, <span style=\"color: #00af00; text-decoration-color: #00af00\">1329</span>, <span style=\"color: #00af00; text-decoration-color: #00af00\">1</span>)        │             <span style=\"color: #00af00; text-decoration-color: #00af00\">0</span> │\n",
       "├─────────────────────────────────┼────────────────────────┼───────────────┤\n",
       "│ conv1d (<span style=\"color: #0087ff; text-decoration-color: #0087ff\">Conv1D</span>)                 │ (<span style=\"color: #00d7ff; text-decoration-color: #00d7ff\">None</span>, <span style=\"color: #00af00; text-decoration-color: #00af00\">1329</span>, <span style=\"color: #00af00; text-decoration-color: #00af00\">27</span>)       │           <span style=\"color: #00af00; text-decoration-color: #00af00\">270</span> │\n",
       "├─────────────────────────────────┼────────────────────────┼───────────────┤\n",
       "│ batch_normalization             │ (<span style=\"color: #00d7ff; text-decoration-color: #00d7ff\">None</span>, <span style=\"color: #00af00; text-decoration-color: #00af00\">1329</span>, <span style=\"color: #00af00; text-decoration-color: #00af00\">27</span>)       │           <span style=\"color: #00af00; text-decoration-color: #00af00\">108</span> │\n",
       "│ (<span style=\"color: #0087ff; text-decoration-color: #0087ff\">BatchNormalization</span>)            │                        │               │\n",
       "├─────────────────────────────────┼────────────────────────┼───────────────┤\n",
       "│ max_pooling1d (<span style=\"color: #0087ff; text-decoration-color: #0087ff\">MaxPooling1D</span>)    │ (<span style=\"color: #00d7ff; text-decoration-color: #00d7ff\">None</span>, <span style=\"color: #00af00; text-decoration-color: #00af00\">664</span>, <span style=\"color: #00af00; text-decoration-color: #00af00\">27</span>)        │             <span style=\"color: #00af00; text-decoration-color: #00af00\">0</span> │\n",
       "├─────────────────────────────────┼────────────────────────┼───────────────┤\n",
       "│ dropout (<span style=\"color: #0087ff; text-decoration-color: #0087ff\">Dropout</span>)               │ (<span style=\"color: #00d7ff; text-decoration-color: #00d7ff\">None</span>, <span style=\"color: #00af00; text-decoration-color: #00af00\">664</span>, <span style=\"color: #00af00; text-decoration-color: #00af00\">27</span>)        │             <span style=\"color: #00af00; text-decoration-color: #00af00\">0</span> │\n",
       "├─────────────────────────────────┼────────────────────────┼───────────────┤\n",
       "│ conv1d_1 (<span style=\"color: #0087ff; text-decoration-color: #0087ff\">Conv1D</span>)               │ (<span style=\"color: #00d7ff; text-decoration-color: #00d7ff\">None</span>, <span style=\"color: #00af00; text-decoration-color: #00af00\">664</span>, <span style=\"color: #00af00; text-decoration-color: #00af00\">4</span>)         │           <span style=\"color: #00af00; text-decoration-color: #00af00\">868</span> │\n",
       "├─────────────────────────────────┼────────────────────────┼───────────────┤\n",
       "│ batch_normalization_1           │ (<span style=\"color: #00d7ff; text-decoration-color: #00d7ff\">None</span>, <span style=\"color: #00af00; text-decoration-color: #00af00\">664</span>, <span style=\"color: #00af00; text-decoration-color: #00af00\">4</span>)         │            <span style=\"color: #00af00; text-decoration-color: #00af00\">16</span> │\n",
       "│ (<span style=\"color: #0087ff; text-decoration-color: #0087ff\">BatchNormalization</span>)            │                        │               │\n",
       "├─────────────────────────────────┼────────────────────────┼───────────────┤\n",
       "│ max_pooling1d_1 (<span style=\"color: #0087ff; text-decoration-color: #0087ff\">MaxPooling1D</span>)  │ (<span style=\"color: #00d7ff; text-decoration-color: #00d7ff\">None</span>, <span style=\"color: #00af00; text-decoration-color: #00af00\">332</span>, <span style=\"color: #00af00; text-decoration-color: #00af00\">4</span>)         │             <span style=\"color: #00af00; text-decoration-color: #00af00\">0</span> │\n",
       "├─────────────────────────────────┼────────────────────────┼───────────────┤\n",
       "│ dropout_1 (<span style=\"color: #0087ff; text-decoration-color: #0087ff\">Dropout</span>)             │ (<span style=\"color: #00d7ff; text-decoration-color: #00d7ff\">None</span>, <span style=\"color: #00af00; text-decoration-color: #00af00\">332</span>, <span style=\"color: #00af00; text-decoration-color: #00af00\">4</span>)         │             <span style=\"color: #00af00; text-decoration-color: #00af00\">0</span> │\n",
       "├─────────────────────────────────┼────────────────────────┼───────────────┤\n",
       "│ attention (<span style=\"color: #0087ff; text-decoration-color: #0087ff\">SeqSelfAttention</span>)    │ (<span style=\"color: #00d7ff; text-decoration-color: #00d7ff\">None</span>, <span style=\"color: #00af00; text-decoration-color: #00af00\">332</span>, <span style=\"color: #00af00; text-decoration-color: #00af00\">4</span>)         │            <span style=\"color: #00af00; text-decoration-color: #00af00\">17</span> │\n",
       "├─────────────────────────────────┼────────────────────────┼───────────────┤\n",
       "│ flatten (<span style=\"color: #0087ff; text-decoration-color: #0087ff\">Flatten</span>)               │ (<span style=\"color: #00d7ff; text-decoration-color: #00d7ff\">None</span>, <span style=\"color: #00af00; text-decoration-color: #00af00\">1328</span>)           │             <span style=\"color: #00af00; text-decoration-color: #00af00\">0</span> │\n",
       "├─────────────────────────────────┼────────────────────────┼───────────────┤\n",
       "│ output_layer (<span style=\"color: #0087ff; text-decoration-color: #0087ff\">Dense</span>)            │ (<span style=\"color: #00d7ff; text-decoration-color: #00d7ff\">None</span>, <span style=\"color: #00af00; text-decoration-color: #00af00\">1</span>)              │         <span style=\"color: #00af00; text-decoration-color: #00af00\">1,329</span> │\n",
       "└─────────────────────────────────┴────────────────────────┴───────────────┘\n",
       "</pre>\n"
      ],
      "text/plain": [
       "┏━━━━━━━━━━━━━━━━━━━━━━━━━━━━━━━━━┳━━━━━━━━━━━━━━━━━━━━━━━━┳━━━━━━━━━━━━━━━┓\n",
       "┃\u001b[1m \u001b[0m\u001b[1mLayer (type)                   \u001b[0m\u001b[1m \u001b[0m┃\u001b[1m \u001b[0m\u001b[1mOutput Shape          \u001b[0m\u001b[1m \u001b[0m┃\u001b[1m \u001b[0m\u001b[1m      Param #\u001b[0m\u001b[1m \u001b[0m┃\n",
       "┡━━━━━━━━━━━━━━━━━━━━━━━━━━━━━━━━━╇━━━━━━━━━━━━━━━━━━━━━━━━╇━━━━━━━━━━━━━━━┩\n",
       "│ input_layer (\u001b[38;5;33mInputLayer\u001b[0m)        │ (\u001b[38;5;45mNone\u001b[0m, \u001b[38;5;34m1329\u001b[0m, \u001b[38;5;34m1\u001b[0m)        │             \u001b[38;5;34m0\u001b[0m │\n",
       "├─────────────────────────────────┼────────────────────────┼───────────────┤\n",
       "│ conv1d (\u001b[38;5;33mConv1D\u001b[0m)                 │ (\u001b[38;5;45mNone\u001b[0m, \u001b[38;5;34m1329\u001b[0m, \u001b[38;5;34m27\u001b[0m)       │           \u001b[38;5;34m270\u001b[0m │\n",
       "├─────────────────────────────────┼────────────────────────┼───────────────┤\n",
       "│ batch_normalization             │ (\u001b[38;5;45mNone\u001b[0m, \u001b[38;5;34m1329\u001b[0m, \u001b[38;5;34m27\u001b[0m)       │           \u001b[38;5;34m108\u001b[0m │\n",
       "│ (\u001b[38;5;33mBatchNormalization\u001b[0m)            │                        │               │\n",
       "├─────────────────────────────────┼────────────────────────┼───────────────┤\n",
       "│ max_pooling1d (\u001b[38;5;33mMaxPooling1D\u001b[0m)    │ (\u001b[38;5;45mNone\u001b[0m, \u001b[38;5;34m664\u001b[0m, \u001b[38;5;34m27\u001b[0m)        │             \u001b[38;5;34m0\u001b[0m │\n",
       "├─────────────────────────────────┼────────────────────────┼───────────────┤\n",
       "│ dropout (\u001b[38;5;33mDropout\u001b[0m)               │ (\u001b[38;5;45mNone\u001b[0m, \u001b[38;5;34m664\u001b[0m, \u001b[38;5;34m27\u001b[0m)        │             \u001b[38;5;34m0\u001b[0m │\n",
       "├─────────────────────────────────┼────────────────────────┼───────────────┤\n",
       "│ conv1d_1 (\u001b[38;5;33mConv1D\u001b[0m)               │ (\u001b[38;5;45mNone\u001b[0m, \u001b[38;5;34m664\u001b[0m, \u001b[38;5;34m4\u001b[0m)         │           \u001b[38;5;34m868\u001b[0m │\n",
       "├─────────────────────────────────┼────────────────────────┼───────────────┤\n",
       "│ batch_normalization_1           │ (\u001b[38;5;45mNone\u001b[0m, \u001b[38;5;34m664\u001b[0m, \u001b[38;5;34m4\u001b[0m)         │            \u001b[38;5;34m16\u001b[0m │\n",
       "│ (\u001b[38;5;33mBatchNormalization\u001b[0m)            │                        │               │\n",
       "├─────────────────────────────────┼────────────────────────┼───────────────┤\n",
       "│ max_pooling1d_1 (\u001b[38;5;33mMaxPooling1D\u001b[0m)  │ (\u001b[38;5;45mNone\u001b[0m, \u001b[38;5;34m332\u001b[0m, \u001b[38;5;34m4\u001b[0m)         │             \u001b[38;5;34m0\u001b[0m │\n",
       "├─────────────────────────────────┼────────────────────────┼───────────────┤\n",
       "│ dropout_1 (\u001b[38;5;33mDropout\u001b[0m)             │ (\u001b[38;5;45mNone\u001b[0m, \u001b[38;5;34m332\u001b[0m, \u001b[38;5;34m4\u001b[0m)         │             \u001b[38;5;34m0\u001b[0m │\n",
       "├─────────────────────────────────┼────────────────────────┼───────────────┤\n",
       "│ attention (\u001b[38;5;33mSeqSelfAttention\u001b[0m)    │ (\u001b[38;5;45mNone\u001b[0m, \u001b[38;5;34m332\u001b[0m, \u001b[38;5;34m4\u001b[0m)         │            \u001b[38;5;34m17\u001b[0m │\n",
       "├─────────────────────────────────┼────────────────────────┼───────────────┤\n",
       "│ flatten (\u001b[38;5;33mFlatten\u001b[0m)               │ (\u001b[38;5;45mNone\u001b[0m, \u001b[38;5;34m1328\u001b[0m)           │             \u001b[38;5;34m0\u001b[0m │\n",
       "├─────────────────────────────────┼────────────────────────┼───────────────┤\n",
       "│ output_layer (\u001b[38;5;33mDense\u001b[0m)            │ (\u001b[38;5;45mNone\u001b[0m, \u001b[38;5;34m1\u001b[0m)              │         \u001b[38;5;34m1,329\u001b[0m │\n",
       "└─────────────────────────────────┴────────────────────────┴───────────────┘\n"
      ]
     },
     "metadata": {},
     "output_type": "display_data"
    },
    {
     "data": {
      "text/html": [
       "<pre style=\"white-space:pre;overflow-x:auto;line-height:normal;font-family:Menlo,'DejaVu Sans Mono',consolas,'Courier New',monospace\"><span style=\"font-weight: bold\"> Total params: </span><span style=\"color: #00af00; text-decoration-color: #00af00\">2,608</span> (10.19 KB)\n",
       "</pre>\n"
      ],
      "text/plain": [
       "\u001b[1m Total params: \u001b[0m\u001b[38;5;34m2,608\u001b[0m (10.19 KB)\n"
      ]
     },
     "metadata": {},
     "output_type": "display_data"
    },
    {
     "data": {
      "text/html": [
       "<pre style=\"white-space:pre;overflow-x:auto;line-height:normal;font-family:Menlo,'DejaVu Sans Mono',consolas,'Courier New',monospace\"><span style=\"font-weight: bold\"> Trainable params: </span><span style=\"color: #00af00; text-decoration-color: #00af00\">2,546</span> (9.95 KB)\n",
       "</pre>\n"
      ],
      "text/plain": [
       "\u001b[1m Trainable params: \u001b[0m\u001b[38;5;34m2,546\u001b[0m (9.95 KB)\n"
      ]
     },
     "metadata": {},
     "output_type": "display_data"
    },
    {
     "data": {
      "text/html": [
       "<pre style=\"white-space:pre;overflow-x:auto;line-height:normal;font-family:Menlo,'DejaVu Sans Mono',consolas,'Courier New',monospace\"><span style=\"font-weight: bold\"> Non-trainable params: </span><span style=\"color: #00af00; text-decoration-color: #00af00\">62</span> (248.00 B)\n",
       "</pre>\n"
      ],
      "text/plain": [
       "\u001b[1m Non-trainable params: \u001b[0m\u001b[38;5;34m62\u001b[0m (248.00 B)\n"
      ]
     },
     "metadata": {},
     "output_type": "display_data"
    }
   ],
   "source": [
    "model = model_with_attention1()"
   ]
  },
  {
   "cell_type": "markdown",
   "id": "ace73b3d",
   "metadata": {},
   "source": [
    "### ROC curve and Prc curve"
   ]
  },
  {
   "cell_type": "code",
   "execution_count": 11,
   "id": "04634c71",
   "metadata": {},
   "outputs": [],
   "source": [
    "def ROC(temp, OutputDir):\n",
    "    validation_result = temp;\n",
    "    for x in [validation_result]:\n",
    "\n",
    "        tprs = []\n",
    "        aucs = []\n",
    "        mean_fpr = np.linspace(0, 1, 100)\n",
    "\n",
    "        i = 0\n",
    "        for val in x:\n",
    "            tpr = val['tpr']\n",
    "            fpr = val['fpr']\n",
    "            tprs.append(np.interp(mean_fpr, fpr, tpr))\n",
    "            tprs[-1][0] = 0.0\n",
    "            roc_auc = auc(fpr, tpr)\n",
    "            aucs.append(roc_auc)\n",
    "            plt.plot(fpr, tpr, lw=1, alpha=0.3,label='ROC fold %d (AUC = %0.4f)' % (i+1, roc_auc))\n",
    "\n",
    "            i += 1\n",
    "\n",
    "        print;\n",
    "\n",
    "        plt.plot([0, 1], [0, 1], linestyle='--', lw=1,color='c' , alpha=.8)\n",
    "\n",
    "        mean_tpr = np.mean(tprs, axis=0)\n",
    "        mean_tpr[-1] = 1.0\n",
    "        mean_auc = auc(mean_fpr, mean_tpr)\n",
    "        std_auc = np.std(aucs)\n",
    "        plt.plot(mean_fpr, mean_tpr, color='b',\n",
    "                 label=r'Mean ROC (AUC = %0.2f $\\pm$ %0.4f)' % (mean_auc, std_auc),\n",
    "                 lw=1, alpha=.8)\n",
    "\n",
    "        std_tpr = np.std(tprs, axis=0)\n",
    "        tprs_upper = np.minimum(mean_tpr + std_tpr, 1)\n",
    "        tprs_lower = np.maximum(mean_tpr - std_tpr, 0)\n",
    "        plt.fill_between(mean_fpr, tprs_lower, tprs_upper, color='grey', alpha=.2,\n",
    "                         label=r'$\\pm$ 1 std. dev.')\n",
    "        fpr_tpr_save = {\"fpr\": mean_fpr, 'tpr' : mean_tpr}\n",
    "        np.save(\"our_mhc_i_external_fpr, tpr.npy\", fpr_tpr_save)\n",
    "        plt.xlim([-0.05, 1.05])\n",
    "        plt.ylim([-0.05, 1.05])\n",
    "        plt.xlabel('False Positive Rate',fontweight='bold')\n",
    "        plt.ylabel('True Positive Rate',fontweight='bold')\n",
    "        plt.legend(loc=\"lower right\")\n",
    "        plt.title(\" External validation (MHC I)\", fontweight='bold')\n",
    "        plt.savefig('roc_External validation_independet MHC I.pdf') #save the figure in your file path\n",
    "        plt.show()\n",
    "        plt.close('all')\n",
    "        \n",
    "        \n",
    "         #************************** Precision Recall Curve*********************************\n",
    "        j=0\n",
    "        prs = []\n",
    "        pre_aucs = []\n",
    "        mean_recal= np.linspace(0, 1, 100)\n",
    "        for val in x:\n",
    "            pre = val['prec']\n",
    "            rec = val['reca']\n",
    "            prs.append(np.interp(mean_recal, rec, pre))\n",
    "            prs[-1][0] = 0.0\n",
    "            p_r_auc = auc(rec, pre)\n",
    "            pre_aucs.append(p_r_auc)\n",
    "            plt.plot(rec, pre, lw=1, alpha=0.3,label='PRC fold %d (AUC = %0.3f)' % (j+1, p_r_auc))\n",
    "\n",
    "            j += 1\n",
    "\n",
    "        print;\n",
    "\n",
    "        #plt.plot([0, 1], [0, 1], linestyle='--', lw=2, color='r',label='Random', alpha=.8)\n",
    "\n",
    "        mean_pre = np.mean(prs, axis=0)\n",
    "        #mean_pre[-1] = 1.0\n",
    "        mean_auc = auc(mean_recal, mean_pre)\n",
    "        std_auc = np.std(pre_aucs)\n",
    "        plt.plot(mean_recal, mean_pre, color='b',\n",
    "                 label=r'Mean PRC (AUC = %0.2f $\\pm$ %0.4f)' % (mean_auc, std_auc),\n",
    "                 lw=1, alpha=.8)\n",
    "\n",
    "        std_pre = np.std(prs, axis=0)\n",
    "        pre_upper = np.minimum(mean_pre + std_pre, 1)\n",
    "        pre_lower = np.maximum(mean_pre - std_pre, 0)\n",
    "        plt.fill_between(mean_recal, pre_lower, pre_upper, color='grey', alpha=.2,\n",
    "                         label=r'$\\pm$ 1 std. dev.')\n",
    "        \n",
    "\n",
    "        plt.xlim([0.0, 1.05])\n",
    "        plt.ylim([-0.05, 1.05])\n",
    "        plt.xlabel('Recall',fontweight='bold')\n",
    "        plt.ylabel('Precision',fontweight='bold')\n",
    "        plt.title('Prc MHC I (External validation)',fontweight='bold')\n",
    "        plt.legend(loc=\"lower right\")\n",
    "        plt.show()\n",
    "        plt.close('all')\n",
    "\n",
    "        \n",
    "def cal(X,y, model):\n",
    "    pred_y =  model.predict(X)\n",
    "    ROCArea = roc_auc_score(y, pred_y)\n",
    "    print(ROCArea)\n",
    "    fpr, tpr, thresholds = roc_curve(y, pred_y)\n",
    "    lossValue = None\n",
    "    \n",
    "    pre, rec, threshlds = precision_recall_curve(y, pred_y)\n",
    "    pre = np.fliplr([pre])[0]  #so the array is increasing (you won't get negative AUC)\n",
    "    rec = np.fliplr([rec])[0]  \n",
    "    AUC_prec_rec = np.trapz(rec,pre)\n",
    "    AUC_prec_rec = abs(AUC_prec_rec)\n",
    "    \n",
    "    \n",
    "    return { 'fpr' : fpr, 'tpr' : tpr, 'thresholds' : thresholds,'pre_recall_curve':AUC_prec_rec,'prec':pre,'reca':rec}"
   ]
  },
  {
   "cell_type": "markdown",
   "id": "615ce62b",
   "metadata": {},
   "source": [
    "### load the five model's weights"
   ]
  },
  {
   "cell_type": "code",
   "execution_count": 12,
   "id": "b75ba380",
   "metadata": {},
   "outputs": [
    {
     "name": "stdout",
     "output_type": "stream",
     "text": [
      "\u001b[1m7/7\u001b[0m \u001b[32m━━━━━━━━━━━━━━━━━━━━\u001b[0m\u001b[37m\u001b[0m \u001b[1m0s\u001b[0m 2ms/step \n",
      "0.9504801920768307\n",
      "\u001b[1m7/7\u001b[0m \u001b[32m━━━━━━━━━━━━━━━━━━━━\u001b[0m\u001b[37m\u001b[0m \u001b[1m0s\u001b[0m 1ms/step \n",
      "0.9484793917567027\n",
      "\u001b[1m7/7\u001b[0m \u001b[32m━━━━━━━━━━━━━━━━━━━━\u001b[0m\u001b[37m\u001b[0m \u001b[1m0s\u001b[0m 1ms/step \n",
      "0.9454781912765107\n",
      "\u001b[1m7/7\u001b[0m \u001b[32m━━━━━━━━━━━━━━━━━━━━\u001b[0m\u001b[37m\u001b[0m \u001b[1m0s\u001b[0m 1ms/step \n",
      "0.9476790716286516\n",
      "\u001b[1m7/7\u001b[0m \u001b[32m━━━━━━━━━━━━━━━━━━━━\u001b[0m\u001b[37m\u001b[0m \u001b[1m0s\u001b[0m 1ms/step \n",
      "0.9463785514205683\n"
     ]
    },
    {
     "data": {
      "image/png": "[encoded data removed]",
      "text/plain": [
       "<Figure size 640x480 with 1 Axes>"
      ]
     },
     "metadata": {},
     "output_type": "display_data"
    },
    {
     "data": {
      "image/png": "[encoded data removed]",
      "text/plain": [
       "<Figure size 640x480 with 1 Axes>"
      ]
     },
     "metadata": {},
     "output_type": "display_data"
    }
   ],
   "source": [
    "import warnings\n",
    "warnings.filterwarnings(\"ignore\")\n",
    "OutputDir=\" \" # give your own path \n",
    "validation_result=[]\n",
    "for i in range(5):\n",
    "        model.load_weights(str(i+0)+'Lastepoch_new'+'.h5') # load model weights for five folds\n",
    "        validation_result.append(cal(data_selected,label_ind, model))\n",
    "        #validation_result.append(cal(data_papaya,training_label[:,1], model))\n",
    "temp_dict = (validation_result)\n",
    "ROC(temp_dict, OutputDir)"
   ]
  },
  {
   "cell_type": "markdown",
   "id": "1981de68",
   "metadata": {},
   "source": [
    "### Model Ability to prediction, # model can be used to predict the data directly without label"
   ]
  },
  {
   "cell_type": "code",
   "execution_count": 69,
   "id": "73f8686c",
   "metadata": {},
   "outputs": [
    {
     "name": "stdout",
     "output_type": "stream",
     "text": [
      "\u001b[1m7/7\u001b[0m \u001b[32m━━━━━━━━━━━━━━━━━━━━\u001b[0m\u001b[37m\u001b[0m \u001b[1m0s\u001b[0m 2ms/step \n"
     ]
    }
   ],
   "source": [
    "predictions = model.predict(data_selected)"
   ]
  },
  {
   "cell_type": "code",
   "execution_count": 70,
   "id": "323d3544",
   "metadata": {},
   "outputs": [
    {
     "data": {
      "text/plain": [
       "array([[0.98951954],\n",
       "       [0.02058558],\n",
       "       [0.75390416],\n",
       "       [0.16321956],\n",
       "       [0.01437442],\n",
       "       [0.99434066],\n",
       "       [0.14335427],\n",
       "       [0.03379054],\n",
       "       [0.08563833],\n",
       "       [0.4916102 ],\n",
       "       [0.06883734],\n",
       "       [0.99878687],\n",
       "       [0.4384611 ],\n",
       "       [0.8187198 ],\n",
       "       [0.36951917],\n",
       "       [0.01454923],\n",
       "       [0.04539985],\n",
       "       [0.37796193],\n",
       "       [0.02441083],\n",
       "       [0.04796683],\n",
       "       [0.37253967],\n",
       "       [0.0939498 ],\n",
       "       [0.00863529],\n",
       "       [0.82481873],\n",
       "       [0.7181431 ],\n",
       "       [0.04892473],\n",
       "       [0.9848381 ],\n",
       "       [0.9958377 ],\n",
       "       [0.0235998 ],\n",
       "       [0.00739757],\n",
       "       [0.0725364 ],\n",
       "       [0.9980781 ],\n",
       "       [0.9975917 ],\n",
       "       [0.00766898],\n",
       "       [0.9995442 ],\n",
       "       [0.02331348],\n",
       "       [0.7419681 ],\n",
       "       [0.03585296],\n",
       "       [0.999926  ],\n",
       "       [0.9983734 ],\n",
       "       [0.02055013],\n",
       "       [0.18623218],\n",
       "       [0.9988427 ],\n",
       "       [0.40682912],\n",
       "       [0.03025893],\n",
       "       [0.02092987],\n",
       "       [0.3254288 ],\n",
       "       [0.01145146],\n",
       "       [0.9978473 ],\n",
       "       [0.01111673],\n",
       "       [0.5541499 ],\n",
       "       [0.99685633],\n",
       "       [0.97740287],\n",
       "       [0.00694142],\n",
       "       [0.02283645],\n",
       "       [0.02462821],\n",
       "       [0.09163368],\n",
       "       [0.06084514],\n",
       "       [0.46709767],\n",
       "       [0.02951355],\n",
       "       [0.04787876],\n",
       "       [0.03735151],\n",
       "       [0.34455988],\n",
       "       [0.9601974 ],\n",
       "       [0.9946871 ],\n",
       "       [0.99974555],\n",
       "       [0.01930474],\n",
       "       [0.03442569],\n",
       "       [0.99739957],\n",
       "       [0.96221745],\n",
       "       [0.9975107 ],\n",
       "       [0.99910635],\n",
       "       [0.03457117],\n",
       "       [0.10680315],\n",
       "       [0.14384711],\n",
       "       [0.48931077],\n",
       "       [0.00596725],\n",
       "       [0.02059694],\n",
       "       [0.02040346],\n",
       "       [0.03040987],\n",
       "       [0.03776861],\n",
       "       [0.9956918 ],\n",
       "       [0.49570766],\n",
       "       [0.0463118 ],\n",
       "       [0.00525055],\n",
       "       [0.03514701],\n",
       "       [0.41804835],\n",
       "       [0.9881175 ],\n",
       "       [0.99937737],\n",
       "       [0.3274063 ],\n",
       "       [0.04343143],\n",
       "       [0.9981287 ],\n",
       "       [0.01230178],\n",
       "       [0.01556677],\n",
       "       [0.16262077],\n",
       "       [0.99942976],\n",
       "       [0.3323474 ],\n",
       "       [0.01613067],\n",
       "       [0.03075828],\n",
       "       [0.01391797],\n",
       "       [0.02594368],\n",
       "       [0.02007116],\n",
       "       [0.98913634],\n",
       "       [0.9962773 ],\n",
       "       [0.07091818],\n",
       "       [0.9997001 ],\n",
       "       [0.99827874],\n",
       "       [0.19191478],\n",
       "       [0.9954583 ],\n",
       "       [0.3317365 ],\n",
       "       [0.75298727],\n",
       "       [0.99333465],\n",
       "       [0.999514  ],\n",
       "       [0.99975246],\n",
       "       [0.16809146],\n",
       "       [0.9154164 ],\n",
       "       [0.07121394],\n",
       "       [0.26181197],\n",
       "       [0.99933463],\n",
       "       [0.33650717],\n",
       "       [0.98827004],\n",
       "       [0.28198504],\n",
       "       [0.02509295],\n",
       "       [0.01475346],\n",
       "       [0.99230784],\n",
       "       [0.64554983],\n",
       "       [0.9957877 ],\n",
       "       [0.07095927],\n",
       "       [0.99982834],\n",
       "       [0.99359715],\n",
       "       [0.01698705],\n",
       "       [0.99675757],\n",
       "       [0.99569213],\n",
       "       [0.80649424],\n",
       "       [0.9977691 ],\n",
       "       [0.01417539],\n",
       "       [0.01911527],\n",
       "       [0.998904  ],\n",
       "       [0.03056864],\n",
       "       [0.7066482 ],\n",
       "       [0.9989629 ],\n",
       "       [0.99977875],\n",
       "       [0.9996035 ],\n",
       "       [0.9941701 ],\n",
       "       [0.60371643],\n",
       "       [0.99562705],\n",
       "       [0.18063107],\n",
       "       [0.9968219 ],\n",
       "       [0.03808453],\n",
       "       [0.998381  ],\n",
       "       [0.9974243 ],\n",
       "       [0.09863769],\n",
       "       [0.18074861],\n",
       "       [0.9994634 ],\n",
       "       [0.21164678],\n",
       "       [0.99923193],\n",
       "       [0.33022395],\n",
       "       [0.99977326],\n",
       "       [0.9996751 ],\n",
       "       [0.99950504],\n",
       "       [0.60553694],\n",
       "       [0.40005007],\n",
       "       [0.99964213],\n",
       "       [0.04231339],\n",
       "       [0.00233125],\n",
       "       [0.04601638],\n",
       "       [0.99857485],\n",
       "       [0.0483894 ],\n",
       "       [0.9929765 ],\n",
       "       [0.01084205],\n",
       "       [0.03258258],\n",
       "       [0.00854681],\n",
       "       [0.9956327 ],\n",
       "       [0.016596  ],\n",
       "       [0.5895296 ],\n",
       "       [0.01944138],\n",
       "       [0.9979042 ],\n",
       "       [0.25586998],\n",
       "       [0.25797778],\n",
       "       [0.9954712 ],\n",
       "       [0.08412877],\n",
       "       [0.07599677],\n",
       "       [0.9946129 ],\n",
       "       [0.9884212 ],\n",
       "       [0.997099  ],\n",
       "       [0.0327118 ],\n",
       "       [0.01361794],\n",
       "       [0.13542807],\n",
       "       [0.10540702],\n",
       "       [0.2761852 ],\n",
       "       [0.02789166],\n",
       "       [0.03330204],\n",
       "       [0.99929094],\n",
       "       [0.9979755 ],\n",
       "       [0.37293774],\n",
       "       [0.10044585],\n",
       "       [0.00965528],\n",
       "       [0.7553458 ],\n",
       "       [0.3018299 ],\n",
       "       [0.09123538]], dtype=float32)"
      ]
     },
     "execution_count": 70,
     "metadata": {},
     "output_type": "execute_result"
    }
   ],
   "source": [
    "predictions"
   ]
  },
  {
   "cell_type": "code",
   "execution_count": 62,
   "id": "c8eb7b3a",
   "metadata": {},
   "outputs": [],
   "source": [
    "predictions_binary = [ 1 if item >=0.5 else 0 for item in predictions]"
   ]
  }
 ],
 "metadata": {
  "kernelspec": {
   "display_name": "Python (GPU)",
   "language": "python",
   "name": "gpu_env"
  },
  "language_info": {
   "codemirror_mode": {
    "name": "ipython",
    "version": 3
   },
   "file_extension": ".py",
   "mimetype": "text/x-python",
   "name": "python",
   "nbconvert_exporter": "python",
   "pygments_lexer": "ipython3",
   "version": "3.11.9"
  }
 },
 "nbformat": 4,
 "nbformat_minor": 5
}
