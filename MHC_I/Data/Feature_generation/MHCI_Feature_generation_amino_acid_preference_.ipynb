{
 "cells": [
  {
   "cell_type": "code",
   "execution_count": 4,
   "id": "5eaacc23",
   "metadata": {},
   "outputs": [],
   "source": [
    "import pickle\n",
    "import gzip\n",
    "import warnings\n",
    "warnings.filterwarnings(\"ignore\")\n",
    "import numpy as np"
   ]
  },
  {
   "cell_type": "markdown",
   "id": "b4874267",
   "metadata": {},
   "source": [
    "# Requirements to Run This Notebook\n",
    "\n",
    "### 1. Input Data\n",
    "- **Training or Independent Data**: The data should be provided in `.dat` format.\n",
    "- **HLA Allele**: Aligned sequence form of HLA alleles, for example  file named -- \"All_prot_alignseq_C_369.dat\"\n",
    "\n",
    "### 2. Supporting Files\n",
    "- ** C-alpha Matrix**: A pre-computed matrix which includs the  structural relationship between amino acids based on c-alpha distance\n",
    "\n",
    "### 3. Output\n",
    "- **Amino Acid Interaction Matrix**: \n",
    "  - For all used immunogenic peptides, the interaction matrix is generated.\n",
    "  - This matrix serves as the initial output and is used for selecting the Optimal Number of Features (ONF). \n",
    " \n",
    "\n",
    "\n"
   ]
  },
  {
   "cell_type": "markdown",
   "id": "376c4e83",
   "metadata": {},
   "source": [
    "### Note on Code Provenance\n",
    "\n",
    "This code is a modified version of the previous article:  \n",
    "**\"MHC II immunogenicity shapes the neoepitope landscape in human tumors\"**  \n",
    "*Jeong Yeon Kim et al.*"
   ]
  },
  {
   "cell_type": "code",
   "execution_count": 18,
   "id": "d54354ed",
   "metadata": {},
   "outputs": [],
   "source": [
    "def matchDat(afflst, hladic, aadic):\n",
    "    seqlst = []\n",
    "    tablst = []\n",
    "    header = []\n",
    "    for affin in afflst:\n",
    "        affstr = affin.strip().split('\\t')\n",
    "        if affstr[0] in hladic:\n",
    "            hlaseq = hladic[affstr[0]]\n",
    "            aaseq = affstr[1]\n",
    "            tmp = []\n",
    "            tmp0 = []\n",
    "            for hlain in hlaseq:\n",
    "                for aain in aaseq:\n",
    "                    if hlain == 'X' or aain == 'X':\n",
    "                        tmp0.append([0.0])\n",
    "                    elif hlain == '*' or hlain == '.' or aain == 'X':\n",
    "                        tmp0.append([0.0])\n",
    "                    elif aain == 'U':\n",
    "                        tmp0.append([aadic.get((hlain, 'C'), 0.0)])\n",
    "                    elif aain == 'J':\n",
    "                        aa1 = aadic.get((hlain, 'L'), 0.0)\n",
    "                        aa2 = aadic.get((hlain, 'I'), 0.0)\n",
    "                        aamax = max(aa1, aa2)\n",
    "                        tmp0.append([aamax])\n",
    "                    elif aain == 'Z':\n",
    "                        aa1 = aadic.get((hlain, 'Q'), 0.0)\n",
    "                        aa2 = aadic.get((hlain, 'E'), 0.0)\n",
    "                        aamax = max(aa1, aa2)\n",
    "                        tmp0.append([aamax])\n",
    "                    elif aain == 'B':\n",
    "                        aa1 = aadic.get((hlain, 'D'), 0.0)\n",
    "                        aa2 = aadic.get((hlain, 'N'), 0.0)\n",
    "                        aamax = max(aa1, aa2)\n",
    "                        tmp0.append([aamax])\n",
    "                    else:\n",
    "                        tmp0.append([aadic.get((hlain, aain), 0.0)])\n",
    "                tmp.append(tmp0)\n",
    "                tmp0 = []\n",
    "            seqlst.append(list(zip(*tmp)))  # Convert zip to list for TensorFlow compatibility\n",
    "            tablst.append(int(affstr[2]))\n",
    "            header.append((affstr[0], affstr[1]))\n",
    "    seqarray0 = np.array(seqlst, dtype=np.float32)\n",
    "    del seqlst\n",
    "    a_seq2 = seqarray0.reshape(seqarray0.shape[0], seqarray0.shape[1] * seqarray0.shape[2])\n",
    "    a_lab2 = np.array(tablst, dtype=np.float32)\n",
    "    del tablst\n",
    "    return (a_seq2, a_lab2), header\n",
    "\n",
    "def HeaderOutput(lstin, outname):\n",
    "    with open(outname, 'w') as outw:\n",
    "        for lin in lstin:\n",
    "            outw.write('\\t'.join(map(str, lin)) + '\\n')\n",
    "\n",
    "def modifyMatrix(affydatin_test, seqdatin, outfile):\n",
    "    hladicin = {x.strip().split('\\t')[0]: list(x.strip().split('\\t')[1]) for x in open(seqdatin).readlines()}\n",
    "    aalst = open('../All_Data/Calpha.txt').readlines() # c_alpha matrix\n",
    "    aadicin = {}\n",
    "    aaseq0 = aalst[0].strip().split('\\t')\n",
    "    for aain in aalst[1:]:\n",
    "        aastr = aain.strip().split('\\t')\n",
    "        for i in range(1, len(aastr)):\n",
    "            aadicin[(aaseq0[i-1], aastr[0])] = float(aastr[i])\n",
    "    afflst = open(affydatin_test).readlines()\n",
    "    d, test_header = matchDat(afflst, hladicin, aadicin)\n",
    "    \n",
    "    outname0 = affydatin_test\n",
    "    outname2 = affydatin_test + '.header'\n",
    "    \n",
    "    with gzip.open(outfile, 'wb') as f:\n",
    "        pickle.dump(d, f, protocol=2)\n",
    "    \n",
    "    HeaderOutput(test_header, outname2)\n"
   ]
  },
  {
   "cell_type": "code",
   "execution_count": 8,
   "id": "a158a7d0",
   "metadata": {},
   "outputs": [],
   "source": [
    "# featue matrix generating for training data \n",
    "modifyMatrix('../MHC_I/our_data_mhc_i_balance_training.dat', '../All_Data/All_prot_alignseq_C_369.dat', 'Feature_MHC_i_our_training')"
   ]
  },
  {
   "cell_type": "code",
   "execution_count": 9,
   "id": "d5e59134",
   "metadata": {},
   "outputs": [],
   "source": [
    "## feature matrix generating for  independent/external/unseen data 200\n",
    "modifyMatrix('../MHC_I/our_data_mhc_i_balance_independent.dat', '../All_Data/All_prot_alignseq_C_369.dat', 'Feature_MHC_i_our_independent')"
   ]
  },
  {
   "cell_type": "code",
   "execution_count": null,
   "id": "5013b809",
   "metadata": {},
   "outputs": [],
   "source": []
  }
 ],
 "metadata": {
  "kernelspec": {
   "display_name": "Python (GPU)",
   "language": "python",
   "name": "gpu_env"
  },
  "language_info": {
   "codemirror_mode": {
    "name": "ipython",
    "version": 3
   },
   "file_extension": ".py",
   "mimetype": "text/x-python",
   "name": "python",
   "nbconvert_exporter": "python",
   "pygments_lexer": "ipython3",
   "version": "3.11.9"
  }
 },
 "nbformat": 4,
 "nbformat_minor": 5
}
