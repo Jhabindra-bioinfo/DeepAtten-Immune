{
 "cells": [
  {
   "cell_type": "code",
   "execution_count": 1,
   "id": "386c43fd",
   "metadata": {},
   "outputs": [],
   "source": [
    "import os\n",
    "os.environ[\"CUDA_VISIBLE-DEVICES\"] = \"0\""
   ]
  },
  {
   "cell_type": "code",
   "execution_count": 4,
   "id": "5eaacc23",
   "metadata": {},
   "outputs": [],
   "source": [
    "import numpy as np\n",
    "import pickle\n",
    "import gzip\n",
    "import warnings\n",
    "with warnings.catch_warnings():\n",
    "    warnings.simplefilter(\"ignore\")"
   ]
  },
  {
   "cell_type": "markdown",
   "id": "ecc0c408",
   "metadata": {},
   "source": [
    "# Requirements to Run This Notebook\n",
    "\n",
    "### 1. Input Data\n",
    "- **Training or Independent Data**: The data should be provided in `.dat` format. Length of peptides = 15aa\n",
    "- **HLA Allele**: Aligned sequence form of HLA alleles, for example  file named -- \"MHC2_prot_alignseq.dat\"\n",
    "\n",
    "### 2. Supporting Files\n",
    "- ** C-alpha Matrix**: A pre-computed matrix which includs the  structural relationship between amino acids based on c-alpha distance\n",
    "\n",
    "### 3. Output\n",
    "- **Amino Acid Interaction Matrix**: \n",
    "  - For all used immunogenic peptides, the interaction matrix is generated.\n",
    "  - This matrix serves as the initial output and is used for selecting the Optimal Number of Features (ONF)."
   ]
  },
  {
   "cell_type": "markdown",
   "id": "fedf9c31",
   "metadata": {},
   "source": [
    "### Including both HLA Chain and averaging their features"
   ]
  },
  {
   "cell_type": "code",
   "execution_count": 3,
   "id": "849a865a",
   "metadata": {},
   "outputs": [],
   "source": [
    "def matchDat(afflst, hladic, aadic):\n",
    "    seqlst = []\n",
    "    tablst = []\n",
    "    header = []\n",
    "    \n",
    "    for affin in afflst:\n",
    "        affstr = affin.strip().split('\\t')\n",
    "        \n",
    "        # Check if the HLA type includes two chains (double alleles)\n",
    "        if '/' in affstr[0]:\n",
    "            hla_types = affstr[0].split('/')\n",
    "        else:\n",
    "            hla_types = [affstr[0]]\n",
    "        \n",
    "        feature_list = []\n",
    "        for hla_type in hla_types:\n",
    "            # Add the missing \"HLA-\" prefix if not present\n",
    "            if not hla_type.startswith(\"HLA-\"):\n",
    "                hla_type = f\"HLA-{hla_type}\"\n",
    "            \n",
    "            if hla_type not in hladic:\n",
    "                print(f\"Missing HLA type: {hla_type}\")\n",
    "                continue\n",
    "            \n",
    "            hlaseq = hladic[hla_type]\n",
    "            aaseq = affstr[1]\n",
    "            #print(hladic.keys())\n",
    "            tmp = []\n",
    "            tmp0 = []\n",
    "            for hlain in hlaseq:\n",
    "                for aain in aaseq:\n",
    "                    if hlain == 'X' or aain == 'X':\n",
    "                        tmp0.append([0.0])\n",
    "                    elif hlain == '*' or hlain == '.' or aain == 'X':\n",
    "                        tmp0.append([0.0])\n",
    "                    elif aain == 'U':\n",
    "                        tmp0.append([aadic.get((hlain, 'C'), 0.0)])\n",
    "                    elif aain == 'J':\n",
    "                        aa1 = aadic.get((hlain, 'L'), 0.0)\n",
    "                        aa2 = aadic.get((hlain, 'I'), 0.0)\n",
    "                        aamax = max(aa1, aa2)\n",
    "                        tmp0.append([aamax])\n",
    "                    elif aain == 'Z':\n",
    "                        aa1 = aadic.get((hlain, 'Q'), 0.0)\n",
    "                        aa2 = aadic.get((hlain, 'E'), 0.0)\n",
    "                        aamax = max(aa1, aa2)\n",
    "                        tmp0.append([aamax])\n",
    "                    elif aain == 'B':\n",
    "                        aa1 = aadic.get((hlain, 'D'), 0.0)\n",
    "                        aa2 = aadic.get((hlain, 'N'), 0.0)\n",
    "                        aamax = max(aa1, aa2)\n",
    "                        tmp0.append([aamax])\n",
    "                    else:\n",
    "                        tmp0.append([aadic.get((hlain, aain), 0.0)])\n",
    "                tmp.append(tmp0)\n",
    "                tmp0 = []\n",
    "            \n",
    "            feature_list.append(list(zip(*tmp)))\n",
    "        \n",
    "        # Combine the features if there are double alleles\n",
    "        if len(feature_list) == 2:\n",
    "            combined_features = np.mean(feature_list, axis=0)  #  Averaging both features\n",
    "            seqlst.append(combined_features)\n",
    "        elif len(feature_list) == 1:\n",
    "            seqlst.append(feature_list[0])\n",
    "        \n",
    "        tablst.append(int(affstr[2]))\n",
    "        header.append((affstr[0], affstr[1]))\n",
    "    \n",
    "    # Print shape of the sequence list array for debugging\n",
    "    seqarray0 = np.array(seqlst, dtype=np.float32)\n",
    "    print(f\"seqarray0.shape: {seqarray0.shape}\")  # Debugging line\n",
    "    del seqlst\n",
    "    \n",
    "    if len(seqarray0.shape) < 3:\n",
    "        raise ValueError(\"seqarray0 does not have the expected 3 dimensions.\")\n",
    "    \n",
    "    a_seq2 = seqarray0.reshape(seqarray0.shape[0], seqarray0.shape[1] * seqarray0.shape[2])\n",
    "    a_lab2 = np.array(tablst, dtype=np.float32)\n",
    "    del tablst\n",
    "    \n",
    "    return (a_seq2, a_lab2), header\n"
   ]
  },
  {
   "cell_type": "code",
   "execution_count": 4,
   "id": "2809b0f3",
   "metadata": {},
   "outputs": [],
   "source": [
    "def HeaderOutput(lstin, outname):\n",
    "    with open(outname, 'w') as outw:\n",
    "        for lin in lstin:\n",
    "            outw.write('\\t'.join(map(str, lin)) + '\\n')\n",
    "\n",
    "def modifyMatrix(affydatin_test, seqdatin, outfile):\n",
    "    hladicin = {x.strip().split('\\t')[0]: list(x.strip().split('\\t')[1]) for x in open(seqdatin).readlines()}\n",
    "    aalst = open('../All_Data/Calpha.txt').readlines()\n",
    "    aadicin = {}\n",
    "    aaseq0 = aalst[0].strip().split('\\t')\n",
    "    for aain in aalst[1:]:\n",
    "        aastr = aain.strip().split('\\t')\n",
    "        for i in range(1, len(aastr)):\n",
    "            aadicin[(aaseq0[i-1], aastr[0])] = float(aastr[i])\n",
    "    afflst = open(affydatin_test).readlines()\n",
    "    d, test_header = matchDat(afflst, hladicin, aadicin)\n",
    "    \n",
    "    outname0 = affydatin_test\n",
    "    outname2 = affydatin_test + '.header'\n",
    "    \n",
    "    with gzip.open(outfile, 'wb') as f:\n",
    "        pickle.dump(d, f, protocol=2)\n",
    "    \n",
    "    HeaderOutput(test_header, outname2)"
   ]
  },
  {
   "cell_type": "code",
   "execution_count": 16,
   "id": "545135a6",
   "metadata": {},
   "outputs": [],
   "source": [
    "#print(hladic.keys())"
   ]
  },
  {
   "cell_type": "code",
   "execution_count": 17,
   "id": "96a44ae8",
   "metadata": {
    "collapsed": true
   },
   "outputs": [
    {
     "name": "stdout",
     "output_type": "stream",
     "text": [
      "Missing HLA type: HLA-DRA-0101\n",
      "seqarray0.shape: (200, 15, 269, 1)\n"
     ]
    }
   ],
   "source": [
    "## double allele MHC II included independent 200\n",
    "modifyMatrix(\"../MHC_II/our_data_mhc_ii_independent_double_allle_200.dat\",'../All_Data/MHC2_prot_alignseq.dat', 'Feature_MHC_ii_our_independent_200_double_allele_included')"
   ]
  },
  {
   "cell_type": "code",
   "execution_count": 7,
   "id": "338caf22",
   "metadata": {
    "collapsed": true
   },
   "outputs": [
    {
     "name": "stdout",
     "output_type": "stream",
     "text": [
      "Missing HLA type: HLA-DRA-0101\n",
      "Missing HLA type: HLA-DRA-0101\n",
      "Missing HLA type: HLA-DRA-0101\n",
      "Missing HLA type: HLA-DRA-0101\n",
      "Missing HLA type: HLA-DRA-0101\n",
      "Missing HLA type: HLA-DRA-0101\n",
      "Missing HLA type: HLA-DRA-0101\n",
      "Missing HLA type: HLA-DRA-0101\n",
      "Missing HLA type: HLA-DRA-0101\n",
      "Missing HLA type: HLA-DRA-0101\n",
      "Missing HLA type: HLA-DRA-0101\n",
      "Missing HLA type: HLA-DRA-0101\n",
      "Missing HLA type: HLA-DRA-0101\n",
      "Missing HLA type: HLA-DRA-0101\n",
      "Missing HLA type: HLA-DRA-0101\n",
      "Missing HLA type: HLA-DRA-0101\n",
      "Missing HLA type: HLA-DRA-0101\n",
      "Missing HLA type: HLA-DRA-0101\n",
      "Missing HLA type: HLA-DRA-0101\n",
      "Missing HLA type: HLA-DRA-0101\n",
      "Missing HLA type: HLA-DRA-0101\n",
      "Missing HLA type: HLA-DRA-0101\n",
      "Missing HLA type: HLA-DRA-0101\n",
      "Missing HLA type: HLA-DRA-0101\n",
      "seqarray0.shape: (5960, 15, 269, 1)\n"
     ]
    }
   ],
   "source": [
    "##double allele MHC II included training\n",
    "modifyMatrix(\"../MHC_II/our_data_mhc_II_training_duplicated_checked_5960.dat\",'../All_Data/MHC2_prot_alignseq.dat', 'Feature_MHC_ii_our_5960_duplicate_checked_double_allele_included')"
   ]
  },
  {
   "cell_type": "markdown",
   "id": "8dbd9668",
   "metadata": {},
   "source": [
    "____________End________________"
   ]
  },
  {
   "cell_type": "markdown",
   "id": "2aa1e1dd",
   "metadata": {},
   "source": [
    "After ran above code, reading output compressed in zip file"
   ]
  },
  {
   "cell_type": "code",
   "execution_count": 8,
   "id": "ddeaf06f",
   "metadata": {},
   "outputs": [
    {
     "name": "stdout",
     "output_type": "stream",
     "text": [
      "<class 'numpy.ndarray'>\n"
     ]
    }
   ],
   "source": [
    "with gzip.open('Feature_MHC_ii_our_independent_200_double_allele_included', 'rb') as f: ## Read the generated matrix, independent data\n",
    "    array = pickle.load(f)\n",
    "print(type(array[0]))"
   ]
  },
  {
   "cell_type": "code",
   "execution_count": 9,
   "id": "e453553c",
   "metadata": {},
   "outputs": [
    {
     "data": {
      "text/plain": [
       "(200, 4035)"
      ]
     },
     "execution_count": 9,
     "metadata": {},
     "output_type": "execute_result"
    }
   ],
   "source": [
    "array[0].shape # number of samples (200) and initial features 4035"
   ]
  },
  {
   "cell_type": "code",
   "execution_count": 10,
   "id": "afc994eb",
   "metadata": {},
   "outputs": [
    {
     "data": {
      "text/plain": [
       "(200, 4035)"
      ]
     },
     "execution_count": 10,
     "metadata": {},
     "output_type": "execute_result"
    }
   ],
   "source": [
    "array[0].shape"
   ]
  },
  {
   "cell_type": "code",
   "execution_count": 12,
   "id": "600c9403",
   "metadata": {},
   "outputs": [
    {
     "data": {
      "text/plain": [
       "(5960,)"
      ]
     },
     "execution_count": 12,
     "metadata": {},
     "output_type": "execute_result"
    }
   ],
   "source": [
    "with gzip.open(\"Feature_MHC_ii_our_5960_duplicate_checked_double_allele_included\") as f:\n",
    "    array = pickle.load(f)\n"
   ]
  },
  {
   "cell_type": "code",
   "execution_count": 13,
   "id": "aebcd30e",
   "metadata": {},
   "outputs": [
    {
     "data": {
      "text/plain": [
       "((5960, 4035), (5960,))"
      ]
     },
     "execution_count": 13,
     "metadata": {},
     "output_type": "execute_result"
    }
   ],
   "source": [
    "array[0].shape, array[1].shape"
   ]
  },
  {
   "cell_type": "code",
   "execution_count": null,
   "id": "5013b809",
   "metadata": {},
   "outputs": [],
   "source": []
  }
 ],
 "metadata": {
  "kernelspec": {
   "display_name": "Python (GPU)",
   "language": "python",
   "name": "gpu_env"
  },
  "language_info": {
   "codemirror_mode": {
    "name": "ipython",
    "version": 3
   },
   "file_extension": ".py",
   "mimetype": "text/x-python",
   "name": "python",
   "nbconvert_exporter": "python",
   "pygments_lexer": "ipython3",
   "version": "3.11.9"
  }
 },
 "nbformat": 4,
 "nbformat_minor": 5
}
